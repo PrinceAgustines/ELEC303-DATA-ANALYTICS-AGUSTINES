{
 "cells": [
  {
   "cell_type": "code",
   "execution_count": 1,
   "id": "db235f29-ec7d-428b-a468-2b036ebb9897",
   "metadata": {},
   "outputs": [],
   "source": [
    "import numpy as np\n",
    "import pandas as pd\n",
    "import warnings\n",
    "warnings.filterwarnings('ignore')"
   ]
  },
  {
   "cell_type": "code",
   "execution_count": 2,
   "id": "a35106a0-9c54-43b4-9fab-c65b82537011",
   "metadata": {},
   "outputs": [],
   "source": [
    "df = pd.read_csv('DATASETS\\\\uk_road_accident.csv')"
   ]
  },
  {
   "cell_type": "code",
   "execution_count": 3,
   "id": "357e780d-c0c6-499d-b398-db1c42e701fc",
   "metadata": {},
   "outputs": [
    {
     "data": {
      "text/html": [
       "<div>\n",
       "<style scoped>\n",
       "    .dataframe tbody tr th:only-of-type {\n",
       "        vertical-align: middle;\n",
       "    }\n",
       "\n",
       "    .dataframe tbody tr th {\n",
       "        vertical-align: top;\n",
       "    }\n",
       "\n",
       "    .dataframe thead th {\n",
       "        text-align: right;\n",
       "    }\n",
       "</style>\n",
       "<table border=\"1\" class=\"dataframe\">\n",
       "  <thead>\n",
       "    <tr style=\"text-align: right;\">\n",
       "      <th></th>\n",
       "      <th>Index</th>\n",
       "      <th>Accident_Severity</th>\n",
       "      <th>Accident Date</th>\n",
       "      <th>Latitude</th>\n",
       "      <th>Light_Conditions</th>\n",
       "      <th>District Area</th>\n",
       "      <th>Longitude</th>\n",
       "      <th>Number_of_Casualties</th>\n",
       "      <th>Number_of_Vehicles</th>\n",
       "      <th>Road_Surface_Conditions</th>\n",
       "      <th>Road_Type</th>\n",
       "      <th>Urban_or_Rural_Area</th>\n",
       "      <th>Weather_Conditions</th>\n",
       "      <th>Vehicle_Type</th>\n",
       "    </tr>\n",
       "  </thead>\n",
       "  <tbody>\n",
       "    <tr>\n",
       "      <th>0</th>\n",
       "      <td>200701BS64157</td>\n",
       "      <td>Serious</td>\n",
       "      <td>5/6/2019</td>\n",
       "      <td>51.506187</td>\n",
       "      <td>Darkness - lights lit</td>\n",
       "      <td>Kensington and Chelsea</td>\n",
       "      <td>-0.209082</td>\n",
       "      <td>1</td>\n",
       "      <td>2</td>\n",
       "      <td>Dry</td>\n",
       "      <td>Single carriageway</td>\n",
       "      <td>Urban</td>\n",
       "      <td>Fine no high winds</td>\n",
       "      <td>Car</td>\n",
       "    </tr>\n",
       "    <tr>\n",
       "      <th>1</th>\n",
       "      <td>200701BS65737</td>\n",
       "      <td>Serious</td>\n",
       "      <td>2/7/2019</td>\n",
       "      <td>51.495029</td>\n",
       "      <td>Daylight</td>\n",
       "      <td>Kensington and Chelsea</td>\n",
       "      <td>-0.173647</td>\n",
       "      <td>1</td>\n",
       "      <td>2</td>\n",
       "      <td>Wet or damp</td>\n",
       "      <td>Single carriageway</td>\n",
       "      <td>Urban</td>\n",
       "      <td>Raining no high winds</td>\n",
       "      <td>Car</td>\n",
       "    </tr>\n",
       "    <tr>\n",
       "      <th>2</th>\n",
       "      <td>200701BS66127</td>\n",
       "      <td>Serious</td>\n",
       "      <td>26-08-2019</td>\n",
       "      <td>51.517715</td>\n",
       "      <td>Darkness - lighting unknown</td>\n",
       "      <td>Kensington and Chelsea</td>\n",
       "      <td>-0.210215</td>\n",
       "      <td>1</td>\n",
       "      <td>3</td>\n",
       "      <td>Dry</td>\n",
       "      <td>NaN</td>\n",
       "      <td>Urban</td>\n",
       "      <td>NaN</td>\n",
       "      <td>Taxi/Private hire car</td>\n",
       "    </tr>\n",
       "    <tr>\n",
       "      <th>3</th>\n",
       "      <td>200701BS66128</td>\n",
       "      <td>Serious</td>\n",
       "      <td>16-08-2019</td>\n",
       "      <td>51.495478</td>\n",
       "      <td>Daylight</td>\n",
       "      <td>Kensington and Chelsea</td>\n",
       "      <td>-0.202731</td>\n",
       "      <td>1</td>\n",
       "      <td>4</td>\n",
       "      <td>Dry</td>\n",
       "      <td>Single carriageway</td>\n",
       "      <td>Urban</td>\n",
       "      <td>Fine no high winds</td>\n",
       "      <td>Bus or coach (17 or more pass seats)</td>\n",
       "    </tr>\n",
       "    <tr>\n",
       "      <th>4</th>\n",
       "      <td>200701BS66837</td>\n",
       "      <td>Slight</td>\n",
       "      <td>3/9/2019</td>\n",
       "      <td>51.488576</td>\n",
       "      <td>Darkness - lights lit</td>\n",
       "      <td>Kensington and Chelsea</td>\n",
       "      <td>-0.192487</td>\n",
       "      <td>1</td>\n",
       "      <td>2</td>\n",
       "      <td>Dry</td>\n",
       "      <td>NaN</td>\n",
       "      <td>Urban</td>\n",
       "      <td>NaN</td>\n",
       "      <td>Other vehicle</td>\n",
       "    </tr>\n",
       "    <tr>\n",
       "      <th>...</th>\n",
       "      <td>...</td>\n",
       "      <td>...</td>\n",
       "      <td>...</td>\n",
       "      <td>...</td>\n",
       "      <td>...</td>\n",
       "      <td>...</td>\n",
       "      <td>...</td>\n",
       "      <td>...</td>\n",
       "      <td>...</td>\n",
       "      <td>...</td>\n",
       "      <td>...</td>\n",
       "      <td>...</td>\n",
       "      <td>...</td>\n",
       "      <td>...</td>\n",
       "    </tr>\n",
       "    <tr>\n",
       "      <th>660674</th>\n",
       "      <td>201091NM01760</td>\n",
       "      <td>Slight</td>\n",
       "      <td>18-02-2022</td>\n",
       "      <td>57.374005</td>\n",
       "      <td>Daylight</td>\n",
       "      <td>Highland</td>\n",
       "      <td>-3.467828</td>\n",
       "      <td>2</td>\n",
       "      <td>1</td>\n",
       "      <td>Dry</td>\n",
       "      <td>Single carriageway</td>\n",
       "      <td>Rural</td>\n",
       "      <td>Fine no high winds</td>\n",
       "      <td>Car</td>\n",
       "    </tr>\n",
       "    <tr>\n",
       "      <th>660675</th>\n",
       "      <td>201091NM01881</td>\n",
       "      <td>Slight</td>\n",
       "      <td>21-02-2022</td>\n",
       "      <td>57.232273</td>\n",
       "      <td>Darkness - no lighting</td>\n",
       "      <td>Highland</td>\n",
       "      <td>-3.809281</td>\n",
       "      <td>1</td>\n",
       "      <td>1</td>\n",
       "      <td>Frost or ice</td>\n",
       "      <td>Single carriageway</td>\n",
       "      <td>Rural</td>\n",
       "      <td>Fine no high winds</td>\n",
       "      <td>Car</td>\n",
       "    </tr>\n",
       "    <tr>\n",
       "      <th>660676</th>\n",
       "      <td>201091NM01935</td>\n",
       "      <td>Slight</td>\n",
       "      <td>23-02-2022</td>\n",
       "      <td>57.585044</td>\n",
       "      <td>Daylight</td>\n",
       "      <td>Highland</td>\n",
       "      <td>-3.862727</td>\n",
       "      <td>1</td>\n",
       "      <td>3</td>\n",
       "      <td>Frost or ice</td>\n",
       "      <td>Single carriageway</td>\n",
       "      <td>Rural</td>\n",
       "      <td>Fine no high winds</td>\n",
       "      <td>Car</td>\n",
       "    </tr>\n",
       "    <tr>\n",
       "      <th>660677</th>\n",
       "      <td>201091NM01964</td>\n",
       "      <td>Serious</td>\n",
       "      <td>23-02-2022</td>\n",
       "      <td>57.214898</td>\n",
       "      <td>Darkness - no lighting</td>\n",
       "      <td>Highland</td>\n",
       "      <td>-3.823997</td>\n",
       "      <td>1</td>\n",
       "      <td>2</td>\n",
       "      <td>Wet or damp</td>\n",
       "      <td>Single carriageway</td>\n",
       "      <td>Rural</td>\n",
       "      <td>Fine no high winds</td>\n",
       "      <td>Motorcycle over 500cc</td>\n",
       "    </tr>\n",
       "    <tr>\n",
       "      <th>660678</th>\n",
       "      <td>201091NM02142</td>\n",
       "      <td>Serious</td>\n",
       "      <td>28-02-2022</td>\n",
       "      <td>57.575210</td>\n",
       "      <td>Daylight</td>\n",
       "      <td>Highland</td>\n",
       "      <td>-3.895673</td>\n",
       "      <td>1</td>\n",
       "      <td>1</td>\n",
       "      <td>Wet or damp</td>\n",
       "      <td>Dual carriageway</td>\n",
       "      <td>Rural</td>\n",
       "      <td>Snowing no high winds</td>\n",
       "      <td>Car</td>\n",
       "    </tr>\n",
       "  </tbody>\n",
       "</table>\n",
       "<p>660679 rows × 14 columns</p>\n",
       "</div>"
      ],
      "text/plain": [
       "                Index Accident_Severity Accident Date   Latitude  \\\n",
       "0       200701BS64157           Serious      5/6/2019  51.506187   \n",
       "1       200701BS65737           Serious      2/7/2019  51.495029   \n",
       "2       200701BS66127           Serious    26-08-2019  51.517715   \n",
       "3       200701BS66128           Serious    16-08-2019  51.495478   \n",
       "4       200701BS66837            Slight      3/9/2019  51.488576   \n",
       "...               ...               ...           ...        ...   \n",
       "660674  201091NM01760            Slight    18-02-2022  57.374005   \n",
       "660675  201091NM01881            Slight    21-02-2022  57.232273   \n",
       "660676  201091NM01935            Slight    23-02-2022  57.585044   \n",
       "660677  201091NM01964           Serious    23-02-2022  57.214898   \n",
       "660678  201091NM02142           Serious    28-02-2022  57.575210   \n",
       "\n",
       "                   Light_Conditions           District Area  Longitude  \\\n",
       "0             Darkness - lights lit  Kensington and Chelsea  -0.209082   \n",
       "1                          Daylight  Kensington and Chelsea  -0.173647   \n",
       "2       Darkness - lighting unknown  Kensington and Chelsea  -0.210215   \n",
       "3                          Daylight  Kensington and Chelsea  -0.202731   \n",
       "4             Darkness - lights lit  Kensington and Chelsea  -0.192487   \n",
       "...                             ...                     ...        ...   \n",
       "660674                     Daylight                Highland  -3.467828   \n",
       "660675       Darkness - no lighting                Highland  -3.809281   \n",
       "660676                     Daylight                Highland  -3.862727   \n",
       "660677       Darkness - no lighting                Highland  -3.823997   \n",
       "660678                     Daylight                Highland  -3.895673   \n",
       "\n",
       "        Number_of_Casualties  Number_of_Vehicles Road_Surface_Conditions  \\\n",
       "0                          1                   2                     Dry   \n",
       "1                          1                   2             Wet or damp   \n",
       "2                          1                   3                     Dry   \n",
       "3                          1                   4                     Dry   \n",
       "4                          1                   2                     Dry   \n",
       "...                      ...                 ...                     ...   \n",
       "660674                     2                   1                     Dry   \n",
       "660675                     1                   1            Frost or ice   \n",
       "660676                     1                   3            Frost or ice   \n",
       "660677                     1                   2             Wet or damp   \n",
       "660678                     1                   1             Wet or damp   \n",
       "\n",
       "                 Road_Type Urban_or_Rural_Area     Weather_Conditions  \\\n",
       "0       Single carriageway               Urban     Fine no high winds   \n",
       "1       Single carriageway               Urban  Raining no high winds   \n",
       "2                      NaN               Urban                    NaN   \n",
       "3       Single carriageway               Urban     Fine no high winds   \n",
       "4                      NaN               Urban                    NaN   \n",
       "...                    ...                 ...                    ...   \n",
       "660674  Single carriageway               Rural     Fine no high winds   \n",
       "660675  Single carriageway               Rural     Fine no high winds   \n",
       "660676  Single carriageway               Rural     Fine no high winds   \n",
       "660677  Single carriageway               Rural     Fine no high winds   \n",
       "660678    Dual carriageway               Rural  Snowing no high winds   \n",
       "\n",
       "                                Vehicle_Type  \n",
       "0                                        Car  \n",
       "1                                        Car  \n",
       "2                      Taxi/Private hire car  \n",
       "3       Bus or coach (17 or more pass seats)  \n",
       "4                              Other vehicle  \n",
       "...                                      ...  \n",
       "660674                                   Car  \n",
       "660675                                   Car  \n",
       "660676                                   Car  \n",
       "660677                 Motorcycle over 500cc  \n",
       "660678                                   Car  \n",
       "\n",
       "[660679 rows x 14 columns]"
      ]
     },
     "execution_count": 3,
     "metadata": {},
     "output_type": "execute_result"
    }
   ],
   "source": [
    "df"
   ]
  },
  {
   "cell_type": "markdown",
   "id": "981d5996-696a-4f0a-8434-ef97de887b52",
   "metadata": {},
   "source": [
    "<h1>1. How many total accidents are in the data?</h1>"
   ]
  },
  {
   "cell_type": "code",
   "execution_count": 4,
   "id": "b96383c0-7421-4505-b14a-cc1b9262e15d",
   "metadata": {},
   "outputs": [
    {
     "data": {
      "text/plain": [
       "660679"
      ]
     },
     "execution_count": 4,
     "metadata": {},
     "output_type": "execute_result"
    }
   ],
   "source": [
    "df.shape[0]"
   ]
  },
  {
   "cell_type": "markdown",
   "id": "ea332db6-0b55-4c22-82fc-b019ea2963b6",
   "metadata": {},
   "source": [
    "<h3>Insight : The total number of accidents in the data is 660,679</h3>"
   ]
  },
  {
   "cell_type": "markdown",
   "id": "26a13654-b0e7-4d3c-bf27-cd652e7e5bce",
   "metadata": {},
   "source": [
    "<h1>2. How many accidents happened by severity (Slight, Serious, Fatal)?</h1>"
   ]
  },
  {
   "cell_type": "code",
   "execution_count": 5,
   "id": "3bdbb2d4-5a1f-4550-a777-3b7b3fdcab9e",
   "metadata": {},
   "outputs": [
    {
     "data": {
      "text/plain": [
       "Accident_Severity\n",
       "Slight     563801\n",
       "Serious     88217\n",
       "Fatal        8661\n",
       "Name: count, dtype: int64"
      ]
     },
     "execution_count": 5,
     "metadata": {},
     "output_type": "execute_result"
    }
   ],
   "source": [
    "df[\"Accident_Severity\"].value_counts()"
   ]
  },
  {
   "cell_type": "markdown",
   "id": "fd041db0-8126-4214-b800-e4e0ad1104d0",
   "metadata": {},
   "source": [
    "<h3>Insight : Here are the total numbers of accidents by severity: Slight - 563,801, Serious - 88,217, and Fatal - 8,661</h3>"
   ]
  },
  {
   "cell_type": "markdown",
   "id": "eb728853-6411-4f9d-90ee-9bdeac2c6edd",
   "metadata": {},
   "source": [
    "<h1>3. What is the most common accident severity?</h1>"
   ]
  },
  {
   "cell_type": "code",
   "execution_count": 6,
   "id": "efe93772-d74d-4d1b-a6c7-dfc570f08018",
   "metadata": {},
   "outputs": [
    {
     "data": {
      "text/plain": [
       "'Slight'"
      ]
     },
     "execution_count": 6,
     "metadata": {},
     "output_type": "execute_result"
    }
   ],
   "source": [
    "df[\"Accident_Severity\"].mode()[0]"
   ]
  },
  {
   "cell_type": "markdown",
   "id": "09b75d7d-b4df-4ba5-ada3-8cb561345f89",
   "metadata": {},
   "source": [
    "<h3>Insight : The most common accident severity is \"Slight\"</h3>"
   ]
  },
  {
   "cell_type": "markdown",
   "id": "e3795853-c202-412e-b3df-d1617a189a54",
   "metadata": {},
   "source": [
    "<h1>4. On average, how many people are hurt in each accident?</h1>"
   ]
  },
  {
   "cell_type": "code",
   "execution_count": 7,
   "id": "3c78d2e5-593a-47b3-a2cb-f304aa1fa743",
   "metadata": {},
   "outputs": [
    {
     "data": {
      "text/plain": [
       "np.float64(1.357040257068864)"
      ]
     },
     "execution_count": 7,
     "metadata": {},
     "output_type": "execute_result"
    }
   ],
   "source": [
    "df[\"Number_of_Casualties\"].mean()"
   ]
  },
  {
   "cell_type": "markdown",
   "id": "09c62380-11fe-4285-8b79-468c137388db",
   "metadata": {},
   "source": [
    "<h3>Insight : The average number of casualties per accident is 1.35</h3>"
   ]
  },
  {
   "cell_type": "markdown",
   "id": "94214715-789e-4250-9e94-03cb8e6e964b",
   "metadata": {},
   "source": [
    "<h1>5. What is the highest number of people hurt in a single accident?</h1>"
   ]
  },
  {
   "cell_type": "code",
   "execution_count": 8,
   "id": "f3105bcf-d1d8-4253-8b41-38f122b3e581",
   "metadata": {},
   "outputs": [
    {
     "data": {
      "text/plain": [
       "np.int64(68)"
      ]
     },
     "execution_count": 8,
     "metadata": {},
     "output_type": "execute_result"
    }
   ],
   "source": [
    "df[\"Number_of_Casualties\"].max()"
   ]
  },
  {
   "cell_type": "markdown",
   "id": "d407858d-aab6-4c0b-9e1b-ebbd5bfa63aa",
   "metadata": {},
   "source": [
    "<h3>Insight : The highest number of people hurt in a single accident is 68</h3>"
   ]
  },
  {
   "cell_type": "markdown",
   "id": "30f66841-3c8e-4a62-ba28-b5bdac081c1c",
   "metadata": {},
   "source": [
    "<h1>6. What is the lowest number of people hurt in a single accident?</h1>"
   ]
  },
  {
   "cell_type": "code",
   "execution_count": 9,
   "id": "933f1912-c22e-4cb6-b080-a2f5db044b1c",
   "metadata": {},
   "outputs": [
    {
     "data": {
      "text/plain": [
       "np.int64(1)"
      ]
     },
     "execution_count": 9,
     "metadata": {},
     "output_type": "execute_result"
    }
   ],
   "source": [
    "df[\"Number_of_Casualties\"].min()"
   ]
  },
  {
   "cell_type": "markdown",
   "id": "b01bbeae-def5-4726-86cc-0f84aa18eb25",
   "metadata": {},
   "source": [
    "<h3>Insight : The lowest number of people hurt in a single accident is 1</h3>"
   ]
  },
  {
   "cell_type": "markdown",
   "id": "63d04a73-c8aa-4f47-85a0-f3436a66e9de",
   "metadata": {},
   "source": [
    "<h1>7. How many total people were hurt in all accidents?</h1>"
   ]
  },
  {
   "cell_type": "code",
   "execution_count": 10,
   "id": "20898b0b-1d1d-42ed-b1d5-435827389739",
   "metadata": {},
   "outputs": [
    {
     "data": {
      "text/plain": [
       "np.int64(896568)"
      ]
     },
     "execution_count": 10,
     "metadata": {},
     "output_type": "execute_result"
    }
   ],
   "source": [
    "df[\"Number_of_Casualties\"].sum()"
   ]
  },
  {
   "cell_type": "markdown",
   "id": "587f1f3c-d212-471f-a985-81d46e69559a",
   "metadata": {},
   "source": [
    "<h3>Insight : The total people were hurt in all accidents is 896,568</h3>"
   ]
  },
  {
   "cell_type": "markdown",
   "id": "901e133f-ee19-4a63-b550-c5aac1e1beed",
   "metadata": {},
   "source": [
    "<h1>8. On average, how many vehicles are involved in one accident?</h1>"
   ]
  },
  {
   "cell_type": "code",
   "execution_count": 11,
   "id": "be4da828-138b-436f-8205-430b6de08f0d",
   "metadata": {},
   "outputs": [
    {
     "data": {
      "text/plain": [
       "np.float64(1.8312554205597575)"
      ]
     },
     "execution_count": 11,
     "metadata": {},
     "output_type": "execute_result"
    }
   ],
   "source": [
    "df[\"Number_of_Vehicles\"].mean()"
   ]
  },
  {
   "cell_type": "markdown",
   "id": "694c8639-9187-430e-9005-e6ac0c03d283",
   "metadata": {},
   "source": [
    "<h3>Insight : The average vehicles per accident is 1.83</h3>"
   ]
  },
  {
   "cell_type": "markdown",
   "id": "c7a97295-6950-4916-82f6-0d7f49032c18",
   "metadata": {},
   "source": [
    "<h1>9. What is the highest number of vehicles in one accident?</h1>"
   ]
  },
  {
   "cell_type": "code",
   "execution_count": 12,
   "id": "27b0eb77-2517-4f1a-9bc0-3c93e9b5bdb0",
   "metadata": {},
   "outputs": [
    {
     "data": {
      "text/plain": [
       "np.int64(32)"
      ]
     },
     "execution_count": 12,
     "metadata": {},
     "output_type": "execute_result"
    }
   ],
   "source": [
    "df[\"Number_of_Vehicles\"].max()"
   ]
  },
  {
   "cell_type": "markdown",
   "id": "f9ccb51d-60cd-49fe-9fbb-21b0270da69c",
   "metadata": {},
   "source": [
    "<h3>Insight : The highest number of vehicles in one accident is 32</h3>"
   ]
  },
  {
   "cell_type": "markdown",
   "id": "86c5b3bc-902b-43e3-acb7-de237df2f606",
   "metadata": {},
   "source": [
    "<h1>10. What is the most common number of vehicles in an accident?</h1>"
   ]
  },
  {
   "cell_type": "code",
   "execution_count": 13,
   "id": "c09145e2-e6f4-44f5-a5e1-b0a1827f4645",
   "metadata": {},
   "outputs": [
    {
     "data": {
      "text/plain": [
       "np.int64(2)"
      ]
     },
     "execution_count": 13,
     "metadata": {},
     "output_type": "execute_result"
    }
   ],
   "source": [
    "df[\"Number_of_Vehicles\"].mode()[0]"
   ]
  },
  {
   "cell_type": "markdown",
   "id": "be326b6a-23ef-4b13-b7d1-3521cc953cb5",
   "metadata": {},
   "source": [
    "<h3>Insight : The most common number of vehicles in an accident is 2</h3>"
   ]
  },
  {
   "cell_type": "markdown",
   "id": "207ae5e4-06a0-4de3-9cac-8b3fa103989a",
   "metadata": {},
   "source": [
    "<h1>11. How many accidents happened under each light condition?</h1>"
   ]
  },
  {
   "cell_type": "code",
   "execution_count": 14,
   "id": "2a66eed7-f4bf-4eb5-b18c-43522ae71395",
   "metadata": {},
   "outputs": [
    {
     "data": {
      "text/plain": [
       "Light_Conditions\n",
       "Daylight                       484880\n",
       "Darkness - lights lit          129335\n",
       "Darkness - no lighting          37437\n",
       "Darkness - lighting unknown      6484\n",
       "Darkness - lights unlit          2543\n",
       "Name: count, dtype: int64"
      ]
     },
     "execution_count": 14,
     "metadata": {},
     "output_type": "execute_result"
    }
   ],
   "source": [
    "df[\"Light_Conditions\"].value_counts()"
   ]
  },
  {
   "cell_type": "markdown",
   "id": "bf86ea5b-4edb-4b23-9475-ad05ca347a0c",
   "metadata": {},
   "source": [
    "<h3>Insight : Here are the accidents happened under each light condition:<br>Daylight - 484,880<br>Darkness(lights lit) - 129,335<br>Darkness(no lighting) - 37,437<br>Darkness(lighting unknown) - 6,484<br>Darkness(lights unlit) - 2,543\n",
    "</h3>"
   ]
  },
  {
   "cell_type": "markdown",
   "id": "f2f04f49-bfa1-4b18-9d27-04973e0fb3ae",
   "metadata": {},
   "source": [
    "<h1>12. What is the most common light condition during accidents?</h1>"
   ]
  },
  {
   "cell_type": "code",
   "execution_count": 15,
   "id": "95597528-1098-411e-86f9-b6dfa435d928",
   "metadata": {},
   "outputs": [
    {
     "data": {
      "text/plain": [
       "'Daylight'"
      ]
     },
     "execution_count": 15,
     "metadata": {},
     "output_type": "execute_result"
    }
   ],
   "source": [
    "df[\"Light_Conditions\"].mode()[0]"
   ]
  },
  {
   "cell_type": "markdown",
   "id": "cd3759f4-879a-4139-9a70-577a7eab8e3c",
   "metadata": {},
   "source": [
    "<h3>Insight : The most common light condition during accidents is Daylight</h3>"
   ]
  },
  {
   "cell_type": "markdown",
   "id": "5b4a5c0f-1d65-4354-88dd-cf48cb1c24fb",
   "metadata": {},
   "source": [
    "<h1>13. How many accidents happened under each weather condition?</h1>"
   ]
  },
  {
   "cell_type": "code",
   "execution_count": 16,
   "id": "90beda71-687c-4cc6-9dce-d8a76332f5e6",
   "metadata": {},
   "outputs": [
    {
     "data": {
      "text/plain": [
       "Weather_Conditions\n",
       "Fine no high winds       520885\n",
       "Raining no high winds     79696\n",
       "Other                     17150\n",
       "Raining + high winds       9615\n",
       "Fine + high winds          8554\n",
       "Snowing no high winds      6238\n",
       "Fog or mist                3528\n",
       "Snowing + high winds        885\n",
       "Name: count, dtype: int64"
      ]
     },
     "execution_count": 16,
     "metadata": {},
     "output_type": "execute_result"
    }
   ],
   "source": [
    "df[\"Weather_Conditions\"].value_counts()"
   ]
  },
  {
   "cell_type": "markdown",
   "id": "94243aad-092b-4d7a-8ad8-ee10a17d5709",
   "metadata": {},
   "source": [
    "<h3>Insight : Here are the accidents happened under each weather condition:<br>Fine no high winds - 520,885<br>Raining no high winds - 79,696<br>Other - 17,150<br>Raining + high winds - 9,615<br>Fine + high winds) - 8,554<br>Snowing no high winds - 6,238<br>Fog or mist - 3,528<br>Snowing + high winds - 8,85\n",
    "</h3>"
   ]
  },
  {
   "cell_type": "markdown",
   "id": "9afbc2ad-7453-40c6-ae49-565ecb44321e",
   "metadata": {},
   "source": [
    "<h1>14. What is the most common weather condition during accidents?</h1>"
   ]
  },
  {
   "cell_type": "code",
   "execution_count": 17,
   "id": "ca8f8bda-2a95-4f9c-95a4-3e974671eaa8",
   "metadata": {},
   "outputs": [
    {
     "data": {
      "text/plain": [
       "'Fine no high winds'"
      ]
     },
     "execution_count": 17,
     "metadata": {},
     "output_type": "execute_result"
    }
   ],
   "source": [
    "df[\"Weather_Conditions\"].mode()[0]"
   ]
  },
  {
   "cell_type": "markdown",
   "id": "4632d425-a132-4111-ab53-681e738a4bf3",
   "metadata": {},
   "source": [
    "<h3>Insight : The most common weather condition during accidents is 'Fine no high winds'\n",
    "</h3>"
   ]
  },
  {
   "cell_type": "markdown",
   "id": "326bbcda-8cc8-423c-b08a-67a937bf1eef",
   "metadata": {},
   "source": [
    "<h1>15. Which 5 districts have the most accidents?</h1>"
   ]
  },
  {
   "cell_type": "code",
   "execution_count": 18,
   "id": "43718f35-91ed-42db-b3a9-858598166758",
   "metadata": {},
   "outputs": [
    {
     "data": {
      "text/plain": [
       "District Area\n",
       "Birmingham    13491\n",
       "Leeds          8898\n",
       "Manchester     6720\n",
       "Bradford       6212\n",
       "Sheffield      5710\n",
       "Name: count, dtype: int64"
      ]
     },
     "execution_count": 18,
     "metadata": {},
     "output_type": "execute_result"
    }
   ],
   "source": [
    "df[\"District Area\"].value_counts().head(5)"
   ]
  },
  {
   "cell_type": "markdown",
   "id": "fe86bdc7-5e2d-4551-8401-9b2f57279cc4",
   "metadata": {},
   "source": [
    "<h3>Insight : The 5 districts that have the most accidents are:<br>Birmingham - 13,491<br>Leeds - 8,898<br>Manchester - 6,720<br>Bradford - 6,212<br>Sheffield - 5,710</h3>"
   ]
  },
  {
   "cell_type": "markdown",
   "id": "9ae5140a-0164-4134-8362-6309907889fc",
   "metadata": {},
   "source": [
    "<h1>16. How many accidents happened on each road surface condition?</h1>"
   ]
  },
  {
   "cell_type": "code",
   "execution_count": 19,
   "id": "07828c5e-ed05-4b55-84c2-932dc706bd39",
   "metadata": {},
   "outputs": [
    {
     "data": {
      "text/plain": [
       "Road_Surface_Conditions\n",
       "Dry                     447821\n",
       "Wet or damp             186708\n",
       "Frost or ice             18517\n",
       "Snow                      5890\n",
       "Flood over 3cm. deep      1017\n",
       "Name: count, dtype: int64"
      ]
     },
     "execution_count": 19,
     "metadata": {},
     "output_type": "execute_result"
    }
   ],
   "source": [
    "df[\"Road_Surface_Conditions\"].value_counts()"
   ]
  },
  {
   "cell_type": "markdown",
   "id": "fce9b4b0-dbbb-4d1c-8541-070e3dbf8e13",
   "metadata": {},
   "source": [
    "<h3>Insight : Here are the accidents that happened on each road surface condition:<br>Dry - 447,821<br>Wet or damp - 186,708<br>Frost or ice - 18,517<br>Snow - 5,890<br>Flood over 3cm. deep - 1,017</h3>"
   ]
  },
  {
   "cell_type": "markdown",
   "id": "4f5740cf-22b4-41f5-9b42-3bff172aa8f9",
   "metadata": {},
   "source": [
    "<h1>17. What is the most common road surface condition in accidents?</h1>"
   ]
  },
  {
   "cell_type": "code",
   "execution_count": 20,
   "id": "b622e242-d87d-475a-943a-674286f1e9af",
   "metadata": {},
   "outputs": [
    {
     "data": {
      "text/plain": [
       "'Dry'"
      ]
     },
     "execution_count": 20,
     "metadata": {},
     "output_type": "execute_result"
    }
   ],
   "source": [
    "df[\"Road_Surface_Conditions\"].mode()[0]"
   ]
  },
  {
   "cell_type": "markdown",
   "id": "dd7ed3e7-788d-4b60-99da-7be5cb894e6b",
   "metadata": {},
   "source": [
    "<h3>Insight : The most common road surface condition in accidents is 'Dry'\n",
    "</h3>"
   ]
  },
  {
   "cell_type": "markdown",
   "id": "aae8d7d9-4c83-46db-8b54-2b7b62a94660",
   "metadata": {},
   "source": [
    "<h1>18. How many accidents happened in urban vs rural areas?</h1>"
   ]
  },
  {
   "cell_type": "code",
   "execution_count": 21,
   "id": "7d449f1c-e040-4270-a02d-d55959dd0457",
   "metadata": {},
   "outputs": [
    {
     "data": {
      "text/plain": [
       "Urban_or_Rural_Area\n",
       "Urban          421663\n",
       "Rural          238990\n",
       "Unallocated        11\n",
       "Name: count, dtype: int64"
      ]
     },
     "execution_count": 21,
     "metadata": {},
     "output_type": "execute_result"
    }
   ],
   "source": [
    "df[\"Urban_or_Rural_Area\"].value_counts()"
   ]
  },
  {
   "cell_type": "markdown",
   "id": "8eb4dad0-f492-40a0-beb1-ecb1c2076c44",
   "metadata": {},
   "source": [
    "<h3>Insight : The number of accidents happened in urban vs rural areas are<br>Urban - 421,663<br>Rural - 238,990<br>Unallocated - 11</h3>"
   ]
  },
  {
   "cell_type": "markdown",
   "id": "e6e104e5-1f3c-4572-93aa-e6e142cc5061",
   "metadata": {},
   "source": [
    "<h1>19. Which 5 vehicle types are most often in accidents?</h1>"
   ]
  },
  {
   "cell_type": "code",
   "execution_count": 22,
   "id": "b190119c-d1ea-4e14-980c-a05c37bfa462",
   "metadata": {},
   "outputs": [
    {
     "data": {
      "text/plain": [
       "Vehicle_Type\n",
       "Car                                     497992\n",
       "Van / Goods 3.5 tonnes mgw or under      34160\n",
       "Bus or coach (17 or more pass seats)     25878\n",
       "Motorcycle over 500cc                    25657\n",
       "Goods 7.5 tonnes mgw and over            17307\n",
       "Name: count, dtype: int64"
      ]
     },
     "execution_count": 22,
     "metadata": {},
     "output_type": "execute_result"
    }
   ],
   "source": [
    "df[\"Vehicle_Type\"].value_counts().head(5)"
   ]
  },
  {
   "cell_type": "markdown",
   "id": "9972d98c-8259-4f68-95b8-5581fd1ddf12",
   "metadata": {},
   "source": [
    "<h3>Insight : Here are the 5 vehicle types that are most often in accidents:<br>Car - 497,992<br>Van / Goods 3.5 tonnes mgw or under - 34,160<br>Bus or coach (17 or more pass seats) - 25,878<br>Motorcycle over 500cc - 25,657<br>Goods 7.5 tonnes mgw and over - 17,307</h3>"
   ]
  },
  {
   "cell_type": "markdown",
   "id": "efb1d407-3aff-4d04-b472-f846d1e6d4ce",
   "metadata": {},
   "source": [
    "<h1>20. What are the summary stats for casualties and vehicles?</h1>"
   ]
  },
  {
   "cell_type": "code",
   "execution_count": 23,
   "id": "8e5fa219-54ab-40fb-9016-807965447946",
   "metadata": {},
   "outputs": [
    {
     "data": {
      "text/html": [
       "<div>\n",
       "<style scoped>\n",
       "    .dataframe tbody tr th:only-of-type {\n",
       "        vertical-align: middle;\n",
       "    }\n",
       "\n",
       "    .dataframe tbody tr th {\n",
       "        vertical-align: top;\n",
       "    }\n",
       "\n",
       "    .dataframe thead th {\n",
       "        text-align: right;\n",
       "    }\n",
       "</style>\n",
       "<table border=\"1\" class=\"dataframe\">\n",
       "  <thead>\n",
       "    <tr style=\"text-align: right;\">\n",
       "      <th></th>\n",
       "      <th>Number_of_Casualties</th>\n",
       "      <th>Number_of_Vehicles</th>\n",
       "    </tr>\n",
       "  </thead>\n",
       "  <tbody>\n",
       "    <tr>\n",
       "      <th>count</th>\n",
       "      <td>660679.000000</td>\n",
       "      <td>660679.000000</td>\n",
       "    </tr>\n",
       "    <tr>\n",
       "      <th>mean</th>\n",
       "      <td>1.357040</td>\n",
       "      <td>1.831255</td>\n",
       "    </tr>\n",
       "    <tr>\n",
       "      <th>std</th>\n",
       "      <td>0.824847</td>\n",
       "      <td>0.715269</td>\n",
       "    </tr>\n",
       "    <tr>\n",
       "      <th>min</th>\n",
       "      <td>1.000000</td>\n",
       "      <td>1.000000</td>\n",
       "    </tr>\n",
       "    <tr>\n",
       "      <th>25%</th>\n",
       "      <td>1.000000</td>\n",
       "      <td>1.000000</td>\n",
       "    </tr>\n",
       "    <tr>\n",
       "      <th>50%</th>\n",
       "      <td>1.000000</td>\n",
       "      <td>2.000000</td>\n",
       "    </tr>\n",
       "    <tr>\n",
       "      <th>75%</th>\n",
       "      <td>1.000000</td>\n",
       "      <td>2.000000</td>\n",
       "    </tr>\n",
       "    <tr>\n",
       "      <th>max</th>\n",
       "      <td>68.000000</td>\n",
       "      <td>32.000000</td>\n",
       "    </tr>\n",
       "  </tbody>\n",
       "</table>\n",
       "</div>"
      ],
      "text/plain": [
       "       Number_of_Casualties  Number_of_Vehicles\n",
       "count         660679.000000       660679.000000\n",
       "mean               1.357040            1.831255\n",
       "std                0.824847            0.715269\n",
       "min                1.000000            1.000000\n",
       "25%                1.000000            1.000000\n",
       "50%                1.000000            2.000000\n",
       "75%                1.000000            2.000000\n",
       "max               68.000000           32.000000"
      ]
     },
     "execution_count": 23,
     "metadata": {},
     "output_type": "execute_result"
    }
   ],
   "source": [
    "df[[\"Number_of_Casualties\", \"Number_of_Vehicles\"]].describe()"
   ]
  },
  {
   "cell_type": "markdown",
   "id": "327c2219-a163-450b-b289-b5d1325f0982",
   "metadata": {},
   "source": [
    "<h3>Insight : This shows the smallest, biggest, and average numbers for both casualties and vehicles in the accidents.</h3>"
   ]
  },
  {
   "cell_type": "code",
   "execution_count": null,
   "id": "45b0df9f-101b-4e44-b7a5-366687263a57",
   "metadata": {},
   "outputs": [],
   "source": []
  }
 ],
 "metadata": {
  "kernelspec": {
   "display_name": "Python 3 (ipykernel)",
   "language": "python",
   "name": "python3"
  },
  "language_info": {
   "codemirror_mode": {
    "name": "ipython",
    "version": 3
   },
   "file_extension": ".py",
   "mimetype": "text/x-python",
   "name": "python",
   "nbconvert_exporter": "python",
   "pygments_lexer": "ipython3",
   "version": "3.13.6"
  }
 },
 "nbformat": 4,
 "nbformat_minor": 5
}
